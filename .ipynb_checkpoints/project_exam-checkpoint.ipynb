{
 "cells": [
  {
   "cell_type": "markdown",
   "metadata": {},
   "source": [
    "# Esame di data mining\n",
    "\n",
    "In questo progetto vogliamo raggruppare gli utenti del sito esercizinglese.com in base alla risposte che hanno dato nei vari esercizi.\n",
    "\n",
    "Una volta che gli utenti sono stati raggruppati possiamo provare a suggerire esercizi alla loro portata\n",
    "\n",
    "## Il dataset originale\n",
    "\n",
    "Il dataset è una tabella che contiene circa 2.700.000 di elementi.\n",
    "\n",
    "è così composto:\n",
    "\n"
   ]
  },
  {
   "cell_type": "code",
   "execution_count": 117,
   "metadata": {},
   "outputs": [
    {
     "data": {
      "text/html": [
       "<img src=\"https://www.francescobelloni.it/universita/DataMining/images/1.PNG\" width=\"800\" height=\"400\"/>"
      ],
      "text/plain": [
       "<IPython.core.display.Image object>"
      ]
     },
     "execution_count": 117,
     "metadata": {},
     "output_type": "execute_result"
    }
   ],
   "source": [
    "from IPython.display import Image\n",
    "Image(url= \"https://www.francescobelloni.it/universita/DataMining/images/1.PNG\", width=800, height=400)"
   ]
  },
  {
   "cell_type": "markdown",
   "metadata": {},
   "source": [
    "E' presente l'url che è stato richiesto, l'indirizzo ip e l'id dell'utente nel sito. Inotre sono salvate altre informazioni che potrebbero servire in successive analisi come ad esempio la dimensione dello schermo e se è presente un adblock.\n",
    "\n",
    "Le informazioni su cui concentriamo la nostra attenzione per questo progetto sono però le risposte che l'utente ha dato.\n",
    "\n",
    "Il dataset, prendendo solamente le risposte degli esercizi degli utenti che si sono iscritti, si riduce da 2.700.000 a 30.372\n",
    "\n",
    "Vengono inotre eliminate le risposte date dagli utenti, poichè questa informazione è troppo granulare per l'anasisi che si vuole compiere."
   ]
  },
  {
   "cell_type": "code",
   "execution_count": 4,
   "metadata": {},
   "outputs": [
    {
     "data": {
      "text/html": [
       "<img src=\"https://www.francescobelloni.it/universita/DataMining/images/2.PNG\" width=\"800\" height=\"400\"/>"
      ],
      "text/plain": [
       "<IPython.core.display.Image object>"
      ]
     },
     "execution_count": 4,
     "metadata": {},
     "output_type": "execute_result"
    }
   ],
   "source": [
    "from IPython.display import Image\n",
    "Image(url= \"https://www.francescobelloni.it/universita/DataMining/images/2.PNG\", width=800, height=400)"
   ]
  },
  {
   "cell_type": "markdown",
   "metadata": {},
   "source": [
    "## Importare il dataset\n",
    "\n",
    "La prima operazione è quella di importare il dataset. Il db è stato salvato in csv.\n"
   ]
  },
  {
   "cell_type": "code",
   "execution_count": 37,
   "metadata": {},
   "outputs": [],
   "source": [
    "import numpy as np\n",
    "import pandas as pd\n",
    "import seaborn as sn\n",
    "import pathlib\n",
    "import os\n",
    "import matplotlib.pyplot as plt\n",
    "from scipy.stats.stats import pearsonr\n",
    "from numpy import cov\n",
    "import plotly.graph_objects as go\n",
    "\n",
    "\n",
    "# Utility\n",
    "def count_values(array_input):\n",
    "    labels = []\n",
    "    values = []    \n",
    "    try:\n",
    "        for i in range(0, len(array_input)):\n",
    "            value: int = int(array_input[i])\n",
    "            # l'elemento è presente, aumento il suo contatore\n",
    "            if value in labels:\n",
    "                index = labels.index(value)\n",
    "                values[index] = values[index] + 1\n",
    "            # l'elemento non è\n",
    "            # lo aggiungo alla lista delle label e segno che ce nè uno\n",
    "            else:\n",
    "                values.append(1)\n",
    "                labels.append(value)\n",
    "        check_sum = sum(values)\n",
    "    except Exception as ex:\n",
    "        print(ex)\n",
    "    return labels, values"
   ]
  },
  {
   "cell_type": "code",
   "execution_count": 160,
   "metadata": {},
   "outputs": [
    {
     "name": "stdout",
     "output_type": "stream",
     "text": [
      "C:\\Users\\franc\\source\\repos\\DataMiningUni\\dataset\\dataset.csv\n"
     ]
    },
    {
     "data": {
      "text/html": [
       "<div>\n",
       "<style scoped>\n",
       "    .dataframe tbody tr th:only-of-type {\n",
       "        vertical-align: middle;\n",
       "    }\n",
       "\n",
       "    .dataframe tbody tr th {\n",
       "        vertical-align: top;\n",
       "    }\n",
       "\n",
       "    .dataframe thead th {\n",
       "        text-align: right;\n",
       "    }\n",
       "</style>\n",
       "<table border=\"1\" class=\"dataframe\">\n",
       "  <thead>\n",
       "    <tr style=\"text-align: right;\">\n",
       "      <th></th>\n",
       "      <th>date</th>\n",
       "      <th>ip</th>\n",
       "      <th>url</th>\n",
       "      <th>exercise_type</th>\n",
       "      <th>count_page</th>\n",
       "      <th>userID</th>\n",
       "      <th>adblock</th>\n",
       "      <th>tokenid</th>\n",
       "      <th>screen_size</th>\n",
       "      <th>exercise_score</th>\n",
       "    </tr>\n",
       "    <tr>\n",
       "      <th>count</th>\n",
       "      <th></th>\n",
       "      <th></th>\n",
       "      <th></th>\n",
       "      <th></th>\n",
       "      <th></th>\n",
       "      <th></th>\n",
       "      <th></th>\n",
       "      <th></th>\n",
       "      <th></th>\n",
       "      <th></th>\n",
       "    </tr>\n",
       "  </thead>\n",
       "  <tbody>\n",
       "    <tr>\n",
       "      <th>270</th>\n",
       "      <td>2021-01-03 10:08:28</td>\n",
       "      <td>212f2610bcc25326cb6ea19f9ffbbe86</td>\n",
       "      <td>https://www.esercizinglese.com/lezioni-inglesi...</td>\n",
       "      <td>grammar_exercise</td>\n",
       "      <td>208</td>\n",
       "      <td>89275</td>\n",
       "      <td>0</td>\n",
       "      <td>60f74253-bb15-478e-8870-27fc1adabcb6</td>\n",
       "      <td>1349</td>\n",
       "      <td>86</td>\n",
       "    </tr>\n",
       "    <tr>\n",
       "      <th>1269</th>\n",
       "      <td>2021-01-03 10:54:17</td>\n",
       "      <td>d173ba1133b586a2f4a9fbeb05fb9f72</td>\n",
       "      <td>https://www.esercizinglese.com/lezioni-inglesi...</td>\n",
       "      <td>grammar_exercise</td>\n",
       "      <td>496</td>\n",
       "      <td>89433</td>\n",
       "      <td>0</td>\n",
       "      <td>efad7f4c-f549-4099-9e25-861fc19ac9c2</td>\n",
       "      <td>1349</td>\n",
       "      <td>86</td>\n",
       "    </tr>\n",
       "    <tr>\n",
       "      <th>1281</th>\n",
       "      <td>2021-01-03 10:54:45</td>\n",
       "      <td>5752856995bbcb2c3f1278b3aa3b0f3c</td>\n",
       "      <td>https://www.esercizinglese.com/lezioni-inglesi...</td>\n",
       "      <td>grammar_exercise</td>\n",
       "      <td>29</td>\n",
       "      <td>89702</td>\n",
       "      <td>0</td>\n",
       "      <td>8024d0e9-eff1-4fa9-8a79-0d31607ee3bc</td>\n",
       "      <td>1349</td>\n",
       "      <td>60</td>\n",
       "    </tr>\n",
       "    <tr>\n",
       "      <th>1302</th>\n",
       "      <td>2021-01-03 10:56:05</td>\n",
       "      <td>d173ba1133b586a2f4a9fbeb05fb9f72</td>\n",
       "      <td>https://www.esercizinglese.com/lezioni-inglesi...</td>\n",
       "      <td>grammar_exercise</td>\n",
       "      <td>498</td>\n",
       "      <td>89433</td>\n",
       "      <td>0</td>\n",
       "      <td>efad7f4c-f549-4099-9e25-861fc19ac9c2</td>\n",
       "      <td>1349</td>\n",
       "      <td>43</td>\n",
       "    </tr>\n",
       "    <tr>\n",
       "      <th>1366</th>\n",
       "      <td>2021-01-03 10:57:40</td>\n",
       "      <td>2b7bd27b202fa697ab022cefd3b0278d</td>\n",
       "      <td>https://www.esercizinglese.com/lezioni-inglesi...</td>\n",
       "      <td>grammar_exercise</td>\n",
       "      <td>17</td>\n",
       "      <td>89957</td>\n",
       "      <td>0</td>\n",
       "      <td>5c248a5d-4d0d-458a-9dc4-86680f279bf0</td>\n",
       "      <td>393</td>\n",
       "      <td>80</td>\n",
       "    </tr>\n",
       "    <tr>\n",
       "      <th>...</th>\n",
       "      <td>...</td>\n",
       "      <td>...</td>\n",
       "      <td>...</td>\n",
       "      <td>...</td>\n",
       "      <td>...</td>\n",
       "      <td>...</td>\n",
       "      <td>...</td>\n",
       "      <td>...</td>\n",
       "      <td>...</td>\n",
       "      <td>...</td>\n",
       "    </tr>\n",
       "    <tr>\n",
       "      <th>2706308</th>\n",
       "      <td>2021-04-14 21:55:45</td>\n",
       "      <td>4ebe9e002d02dfdaa1761e56a771df98</td>\n",
       "      <td>https://www.esercizinglese.com/lezioni-inglesi...</td>\n",
       "      <td>grammar_exercise</td>\n",
       "      <td>232</td>\n",
       "      <td>90465</td>\n",
       "      <td>2</td>\n",
       "      <td>e46ad3a0-9957-46a9-bd6a-60ba281593ad</td>\n",
       "      <td>1440</td>\n",
       "      <td>90</td>\n",
       "    </tr>\n",
       "    <tr>\n",
       "      <th>2706326</th>\n",
       "      <td>2021-04-14 21:56:39</td>\n",
       "      <td>4ebe9e002d02dfdaa1761e56a771df98</td>\n",
       "      <td>https://www.esercizinglese.com/lezioni-inglesi...</td>\n",
       "      <td>grammar_exercise</td>\n",
       "      <td>234</td>\n",
       "      <td>90465</td>\n",
       "      <td>2</td>\n",
       "      <td>e46ad3a0-9957-46a9-bd6a-60ba281593ad</td>\n",
       "      <td>1440</td>\n",
       "      <td>90</td>\n",
       "    </tr>\n",
       "    <tr>\n",
       "      <th>2706341</th>\n",
       "      <td>2021-04-14 21:57:27</td>\n",
       "      <td>4ebe9e002d02dfdaa1761e56a771df98</td>\n",
       "      <td>https://www.esercizinglese.com/lezioni-inglesi...</td>\n",
       "      <td>grammar_exercise</td>\n",
       "      <td>236</td>\n",
       "      <td>90465</td>\n",
       "      <td>2</td>\n",
       "      <td>e46ad3a0-9957-46a9-bd6a-60ba281593ad</td>\n",
       "      <td>1440</td>\n",
       "      <td>40</td>\n",
       "    </tr>\n",
       "    <tr>\n",
       "      <th>2706738</th>\n",
       "      <td>2021-04-14 22:17:22</td>\n",
       "      <td>4ebe9e002d02dfdaa1761e56a771df98</td>\n",
       "      <td>https://www.esercizinglese.com/lezioni-inglesi...</td>\n",
       "      <td>grammar_exercise</td>\n",
       "      <td>238</td>\n",
       "      <td>90465</td>\n",
       "      <td>2</td>\n",
       "      <td>e46ad3a0-9957-46a9-bd6a-60ba281593ad</td>\n",
       "      <td>1440</td>\n",
       "      <td>40</td>\n",
       "    </tr>\n",
       "    <tr>\n",
       "      <th>2706989</th>\n",
       "      <td>2021-04-14 22:32:14</td>\n",
       "      <td>a2075ac50cf8adb9e2d0fc282f808816</td>\n",
       "      <td>https://www.esercizinglese.com/lezioni-inglesi...</td>\n",
       "      <td>grammar_exercise</td>\n",
       "      <td>45</td>\n",
       "      <td>79193</td>\n",
       "      <td>1</td>\n",
       "      <td>a898e1eb-8987-466a-b22c-854b4e3b8c12</td>\n",
       "      <td>1524</td>\n",
       "      <td>80</td>\n",
       "    </tr>\n",
       "  </tbody>\n",
       "</table>\n",
       "<p>30372 rows × 10 columns</p>\n",
       "</div>"
      ],
      "text/plain": [
       "                        date                                ip  \\\n",
       "count                                                            \n",
       "270      2021-01-03 10:08:28  212f2610bcc25326cb6ea19f9ffbbe86   \n",
       "1269     2021-01-03 10:54:17  d173ba1133b586a2f4a9fbeb05fb9f72   \n",
       "1281     2021-01-03 10:54:45  5752856995bbcb2c3f1278b3aa3b0f3c   \n",
       "1302     2021-01-03 10:56:05  d173ba1133b586a2f4a9fbeb05fb9f72   \n",
       "1366     2021-01-03 10:57:40  2b7bd27b202fa697ab022cefd3b0278d   \n",
       "...                      ...                               ...   \n",
       "2706308  2021-04-14 21:55:45  4ebe9e002d02dfdaa1761e56a771df98   \n",
       "2706326  2021-04-14 21:56:39  4ebe9e002d02dfdaa1761e56a771df98   \n",
       "2706341  2021-04-14 21:57:27  4ebe9e002d02dfdaa1761e56a771df98   \n",
       "2706738  2021-04-14 22:17:22  4ebe9e002d02dfdaa1761e56a771df98   \n",
       "2706989  2021-04-14 22:32:14  a2075ac50cf8adb9e2d0fc282f808816   \n",
       "\n",
       "                                                       url     exercise_type  \\\n",
       "count                                                                          \n",
       "270      https://www.esercizinglese.com/lezioni-inglesi...  grammar_exercise   \n",
       "1269     https://www.esercizinglese.com/lezioni-inglesi...  grammar_exercise   \n",
       "1281     https://www.esercizinglese.com/lezioni-inglesi...  grammar_exercise   \n",
       "1302     https://www.esercizinglese.com/lezioni-inglesi...  grammar_exercise   \n",
       "1366     https://www.esercizinglese.com/lezioni-inglesi...  grammar_exercise   \n",
       "...                                                    ...               ...   \n",
       "2706308  https://www.esercizinglese.com/lezioni-inglesi...  grammar_exercise   \n",
       "2706326  https://www.esercizinglese.com/lezioni-inglesi...  grammar_exercise   \n",
       "2706341  https://www.esercizinglese.com/lezioni-inglesi...  grammar_exercise   \n",
       "2706738  https://www.esercizinglese.com/lezioni-inglesi...  grammar_exercise   \n",
       "2706989  https://www.esercizinglese.com/lezioni-inglesi...  grammar_exercise   \n",
       "\n",
       "         count_page  userID  adblock                               tokenid  \\\n",
       "count                                                                        \n",
       "270             208   89275        0  60f74253-bb15-478e-8870-27fc1adabcb6   \n",
       "1269            496   89433        0  efad7f4c-f549-4099-9e25-861fc19ac9c2   \n",
       "1281             29   89702        0  8024d0e9-eff1-4fa9-8a79-0d31607ee3bc   \n",
       "1302            498   89433        0  efad7f4c-f549-4099-9e25-861fc19ac9c2   \n",
       "1366             17   89957        0  5c248a5d-4d0d-458a-9dc4-86680f279bf0   \n",
       "...             ...     ...      ...                                   ...   \n",
       "2706308         232   90465        2  e46ad3a0-9957-46a9-bd6a-60ba281593ad   \n",
       "2706326         234   90465        2  e46ad3a0-9957-46a9-bd6a-60ba281593ad   \n",
       "2706341         236   90465        2  e46ad3a0-9957-46a9-bd6a-60ba281593ad   \n",
       "2706738         238   90465        2  e46ad3a0-9957-46a9-bd6a-60ba281593ad   \n",
       "2706989          45   79193        1  a898e1eb-8987-466a-b22c-854b4e3b8c12   \n",
       "\n",
       "         screen_size  exercise_score  \n",
       "count                                 \n",
       "270             1349              86  \n",
       "1269            1349              86  \n",
       "1281            1349              60  \n",
       "1302            1349              43  \n",
       "1366             393              80  \n",
       "...              ...             ...  \n",
       "2706308         1440              90  \n",
       "2706326         1440              90  \n",
       "2706341         1440              40  \n",
       "2706738         1440              40  \n",
       "2706989         1524              80  \n",
       "\n",
       "[30372 rows x 10 columns]"
      ]
     },
     "execution_count": 160,
     "metadata": {},
     "output_type": "execute_result"
    }
   ],
   "source": [
    "directory = pathlib.Path().absolute()\n",
    "path = os.path.join(directory, \"dataset\", 'dataset.csv')\n",
    "print(path)\n",
    "data = pd.read_csv(path,error_bad_lines=False)\n",
    "data.set_index('count')"
   ]
  },
  {
   "cell_type": "markdown",
   "metadata": {},
   "source": [
    "## Esplorare i dati"
   ]
  },
  {
   "cell_type": "code",
   "execution_count": 162,
   "metadata": {},
   "outputs": [
    {
     "data": {
      "text/html": [
       "<div>\n",
       "<style scoped>\n",
       "    .dataframe tbody tr th:only-of-type {\n",
       "        vertical-align: middle;\n",
       "    }\n",
       "\n",
       "    .dataframe tbody tr th {\n",
       "        vertical-align: top;\n",
       "    }\n",
       "\n",
       "    .dataframe thead th {\n",
       "        text-align: right;\n",
       "    }\n",
       "</style>\n",
       "<table border=\"1\" class=\"dataframe\">\n",
       "  <thead>\n",
       "    <tr style=\"text-align: right;\">\n",
       "      <th></th>\n",
       "      <th>count</th>\n",
       "      <th>date</th>\n",
       "      <th>ip</th>\n",
       "      <th>url</th>\n",
       "      <th>exercise_type</th>\n",
       "      <th>count_page</th>\n",
       "      <th>userID</th>\n",
       "      <th>adblock</th>\n",
       "      <th>tokenid</th>\n",
       "      <th>screen_size</th>\n",
       "      <th>exercise_score</th>\n",
       "    </tr>\n",
       "  </thead>\n",
       "  <tbody>\n",
       "    <tr>\n",
       "      <th>0</th>\n",
       "      <td>270</td>\n",
       "      <td>2021-01-03 10:08:28</td>\n",
       "      <td>212f2610bcc25326cb6ea19f9ffbbe86</td>\n",
       "      <td>https://www.esercizinglese.com/lezioni-inglesi...</td>\n",
       "      <td>grammar_exercise</td>\n",
       "      <td>208</td>\n",
       "      <td>89275</td>\n",
       "      <td>0</td>\n",
       "      <td>60f74253-bb15-478e-8870-27fc1adabcb6</td>\n",
       "      <td>1349</td>\n",
       "      <td>86</td>\n",
       "    </tr>\n",
       "    <tr>\n",
       "      <th>1</th>\n",
       "      <td>1269</td>\n",
       "      <td>2021-01-03 10:54:17</td>\n",
       "      <td>d173ba1133b586a2f4a9fbeb05fb9f72</td>\n",
       "      <td>https://www.esercizinglese.com/lezioni-inglesi...</td>\n",
       "      <td>grammar_exercise</td>\n",
       "      <td>496</td>\n",
       "      <td>89433</td>\n",
       "      <td>0</td>\n",
       "      <td>efad7f4c-f549-4099-9e25-861fc19ac9c2</td>\n",
       "      <td>1349</td>\n",
       "      <td>86</td>\n",
       "    </tr>\n",
       "    <tr>\n",
       "      <th>2</th>\n",
       "      <td>1281</td>\n",
       "      <td>2021-01-03 10:54:45</td>\n",
       "      <td>5752856995bbcb2c3f1278b3aa3b0f3c</td>\n",
       "      <td>https://www.esercizinglese.com/lezioni-inglesi...</td>\n",
       "      <td>grammar_exercise</td>\n",
       "      <td>29</td>\n",
       "      <td>89702</td>\n",
       "      <td>0</td>\n",
       "      <td>8024d0e9-eff1-4fa9-8a79-0d31607ee3bc</td>\n",
       "      <td>1349</td>\n",
       "      <td>60</td>\n",
       "    </tr>\n",
       "    <tr>\n",
       "      <th>3</th>\n",
       "      <td>1302</td>\n",
       "      <td>2021-01-03 10:56:05</td>\n",
       "      <td>d173ba1133b586a2f4a9fbeb05fb9f72</td>\n",
       "      <td>https://www.esercizinglese.com/lezioni-inglesi...</td>\n",
       "      <td>grammar_exercise</td>\n",
       "      <td>498</td>\n",
       "      <td>89433</td>\n",
       "      <td>0</td>\n",
       "      <td>efad7f4c-f549-4099-9e25-861fc19ac9c2</td>\n",
       "      <td>1349</td>\n",
       "      <td>43</td>\n",
       "    </tr>\n",
       "    <tr>\n",
       "      <th>4</th>\n",
       "      <td>1366</td>\n",
       "      <td>2021-01-03 10:57:40</td>\n",
       "      <td>2b7bd27b202fa697ab022cefd3b0278d</td>\n",
       "      <td>https://www.esercizinglese.com/lezioni-inglesi...</td>\n",
       "      <td>grammar_exercise</td>\n",
       "      <td>17</td>\n",
       "      <td>89957</td>\n",
       "      <td>0</td>\n",
       "      <td>5c248a5d-4d0d-458a-9dc4-86680f279bf0</td>\n",
       "      <td>393</td>\n",
       "      <td>80</td>\n",
       "    </tr>\n",
       "  </tbody>\n",
       "</table>\n",
       "</div>"
      ],
      "text/plain": [
       "   count                 date                                ip  \\\n",
       "0    270  2021-01-03 10:08:28  212f2610bcc25326cb6ea19f9ffbbe86   \n",
       "1   1269  2021-01-03 10:54:17  d173ba1133b586a2f4a9fbeb05fb9f72   \n",
       "2   1281  2021-01-03 10:54:45  5752856995bbcb2c3f1278b3aa3b0f3c   \n",
       "3   1302  2021-01-03 10:56:05  d173ba1133b586a2f4a9fbeb05fb9f72   \n",
       "4   1366  2021-01-03 10:57:40  2b7bd27b202fa697ab022cefd3b0278d   \n",
       "\n",
       "                                                 url     exercise_type  \\\n",
       "0  https://www.esercizinglese.com/lezioni-inglesi...  grammar_exercise   \n",
       "1  https://www.esercizinglese.com/lezioni-inglesi...  grammar_exercise   \n",
       "2  https://www.esercizinglese.com/lezioni-inglesi...  grammar_exercise   \n",
       "3  https://www.esercizinglese.com/lezioni-inglesi...  grammar_exercise   \n",
       "4  https://www.esercizinglese.com/lezioni-inglesi...  grammar_exercise   \n",
       "\n",
       "   count_page  userID  adblock                               tokenid  \\\n",
       "0         208   89275        0  60f74253-bb15-478e-8870-27fc1adabcb6   \n",
       "1         496   89433        0  efad7f4c-f549-4099-9e25-861fc19ac9c2   \n",
       "2          29   89702        0  8024d0e9-eff1-4fa9-8a79-0d31607ee3bc   \n",
       "3         498   89433        0  efad7f4c-f549-4099-9e25-861fc19ac9c2   \n",
       "4          17   89957        0  5c248a5d-4d0d-458a-9dc4-86680f279bf0   \n",
       "\n",
       "   screen_size  exercise_score  \n",
       "0         1349              86  \n",
       "1         1349              86  \n",
       "2         1349              60  \n",
       "3         1349              43  \n",
       "4          393              80  "
      ]
     },
     "execution_count": 162,
     "metadata": {},
     "output_type": "execute_result"
    }
   ],
   "source": [
    "data.head()"
   ]
  },
  {
   "cell_type": "code",
   "execution_count": 163,
   "metadata": {},
   "outputs": [
    {
     "data": {
      "text/html": [
       "<div>\n",
       "<style scoped>\n",
       "    .dataframe tbody tr th:only-of-type {\n",
       "        vertical-align: middle;\n",
       "    }\n",
       "\n",
       "    .dataframe tbody tr th {\n",
       "        vertical-align: top;\n",
       "    }\n",
       "\n",
       "    .dataframe thead th {\n",
       "        text-align: right;\n",
       "    }\n",
       "</style>\n",
       "<table border=\"1\" class=\"dataframe\">\n",
       "  <thead>\n",
       "    <tr style=\"text-align: right;\">\n",
       "      <th></th>\n",
       "      <th>count</th>\n",
       "      <th>count_page</th>\n",
       "      <th>userID</th>\n",
       "      <th>adblock</th>\n",
       "      <th>screen_size</th>\n",
       "      <th>exercise_score</th>\n",
       "    </tr>\n",
       "  </thead>\n",
       "  <tbody>\n",
       "    <tr>\n",
       "      <th>count</th>\n",
       "      <td>3.037200e+04</td>\n",
       "      <td>30372.000000</td>\n",
       "      <td>30372.000000</td>\n",
       "      <td>30372.000000</td>\n",
       "      <td>30372.000000</td>\n",
       "      <td>30372.000000</td>\n",
       "    </tr>\n",
       "    <tr>\n",
       "      <th>mean</th>\n",
       "      <td>1.271074e+06</td>\n",
       "      <td>144.289642</td>\n",
       "      <td>95094.388318</td>\n",
       "      <td>0.234394</td>\n",
       "      <td>1378.222409</td>\n",
       "      <td>60.058277</td>\n",
       "    </tr>\n",
       "    <tr>\n",
       "      <th>std</th>\n",
       "      <td>7.860728e+05</td>\n",
       "      <td>468.891293</td>\n",
       "      <td>11596.684900</td>\n",
       "      <td>0.540797</td>\n",
       "      <td>343.812289</td>\n",
       "      <td>31.451963</td>\n",
       "    </tr>\n",
       "    <tr>\n",
       "      <th>min</th>\n",
       "      <td>2.700000e+02</td>\n",
       "      <td>-2.000000</td>\n",
       "      <td>73.000000</td>\n",
       "      <td>-2.000000</td>\n",
       "      <td>-2.000000</td>\n",
       "      <td>-1.000000</td>\n",
       "    </tr>\n",
       "    <tr>\n",
       "      <th>25%</th>\n",
       "      <td>6.327698e+05</td>\n",
       "      <td>20.000000</td>\n",
       "      <td>92048.000000</td>\n",
       "      <td>0.000000</td>\n",
       "      <td>1324.000000</td>\n",
       "      <td>43.000000</td>\n",
       "    </tr>\n",
       "    <tr>\n",
       "      <th>50%</th>\n",
       "      <td>1.204924e+06</td>\n",
       "      <td>47.000000</td>\n",
       "      <td>95757.500000</td>\n",
       "      <td>0.000000</td>\n",
       "      <td>1349.000000</td>\n",
       "      <td>71.000000</td>\n",
       "    </tr>\n",
       "    <tr>\n",
       "      <th>75%</th>\n",
       "      <td>1.907899e+06</td>\n",
       "      <td>126.000000</td>\n",
       "      <td>101956.000000</td>\n",
       "      <td>0.000000</td>\n",
       "      <td>1519.000000</td>\n",
       "      <td>86.000000</td>\n",
       "    </tr>\n",
       "    <tr>\n",
       "      <th>max</th>\n",
       "      <td>2.706989e+06</td>\n",
       "      <td>9817.000000</td>\n",
       "      <td>107709.000000</td>\n",
       "      <td>2.000000</td>\n",
       "      <td>3803.000000</td>\n",
       "      <td>100.000000</td>\n",
       "    </tr>\n",
       "  </tbody>\n",
       "</table>\n",
       "</div>"
      ],
      "text/plain": [
       "              count    count_page         userID       adblock   screen_size  \\\n",
       "count  3.037200e+04  30372.000000   30372.000000  30372.000000  30372.000000   \n",
       "mean   1.271074e+06    144.289642   95094.388318      0.234394   1378.222409   \n",
       "std    7.860728e+05    468.891293   11596.684900      0.540797    343.812289   \n",
       "min    2.700000e+02     -2.000000      73.000000     -2.000000     -2.000000   \n",
       "25%    6.327698e+05     20.000000   92048.000000      0.000000   1324.000000   \n",
       "50%    1.204924e+06     47.000000   95757.500000      0.000000   1349.000000   \n",
       "75%    1.907899e+06    126.000000  101956.000000      0.000000   1519.000000   \n",
       "max    2.706989e+06   9817.000000  107709.000000      2.000000   3803.000000   \n",
       "\n",
       "       exercise_score  \n",
       "count    30372.000000  \n",
       "mean        60.058277  \n",
       "std         31.451963  \n",
       "min         -1.000000  \n",
       "25%         43.000000  \n",
       "50%         71.000000  \n",
       "75%         86.000000  \n",
       "max        100.000000  "
      ]
     },
     "execution_count": 163,
     "metadata": {},
     "output_type": "execute_result"
    }
   ],
   "source": [
    "data.describe()"
   ]
  },
  {
   "cell_type": "markdown",
   "metadata": {},
   "source": [
    "_inforazioni utili_"
   ]
  },
  {
   "cell_type": "code",
   "execution_count": 33,
   "metadata": {},
   "outputs": [
    {
     "data": {
      "text/plain": [
       "(30372, 11)"
      ]
     },
     "execution_count": 33,
     "metadata": {},
     "output_type": "execute_result"
    }
   ],
   "source": [
    "data.shape"
   ]
  },
  {
   "cell_type": "code",
   "execution_count": 34,
   "metadata": {},
   "outputs": [
    {
     "data": {
      "text/plain": [
       "Index(['count', 'date', 'ip', 'url', 'exercise_type', 'count_page', 'userID',\n",
       "       'adblock', 'tokenid', 'screen_size', 'exercise_score'],\n",
       "      dtype='object')"
      ]
     },
     "execution_count": 34,
     "metadata": {},
     "output_type": "execute_result"
    }
   ],
   "source": [
    "data.columns"
   ]
  },
  {
   "cell_type": "code",
   "execution_count": 35,
   "metadata": {},
   "outputs": [
    {
     "data": {
      "text/plain": [
       "count             30372\n",
       "date              30255\n",
       "ip                 4066\n",
       "url                2444\n",
       "exercise_type         4\n",
       "count_page         1373\n",
       "userID             3114\n",
       "adblock               5\n",
       "tokenid            3448\n",
       "screen_size         443\n",
       "exercise_score      102\n",
       "dtype: int64"
      ]
     },
     "execution_count": 35,
     "metadata": {},
     "output_type": "execute_result"
    }
   ],
   "source": [
    "data.nunique()"
   ]
  },
  {
   "cell_type": "markdown",
   "metadata": {},
   "source": [
    "_Check integrity_"
   ]
  },
  {
   "cell_type": "code",
   "execution_count": 42,
   "metadata": {},
   "outputs": [
    {
     "data": {
      "text/plain": [
       "array([ 86,  60,  43,  80,  71,  90,  68,  57,  38,  76,  58,  83,  50,\n",
       "       100,  44,  88,  62,  89,  70,  75,  29,  30,  12,  45,  79,  61,\n",
       "        33,  78,  39,  67,  32,  82,  65,  81,  35,  85,  73,  25,  66,\n",
       "        54,   1,  14,  64,  28,  63,  55,  37,  46,  51,  74,  94,  87,\n",
       "        84,  72,  53,  97,  20,  93,  13,  24,  69,  40,  18,  47,  56,\n",
       "        10,  77,  48,  36,  26,   5,  49,  11,  34,  31,  52,  92,  27,\n",
       "        22,   8,  41,  96,  42,  59,  16,  17,  15,  91,   6,   7,   9,\n",
       "        21,  98,  23,  19,  95,   0,   3,   2,   4,  99,  -1], dtype=int64)"
      ]
     },
     "execution_count": 42,
     "metadata": {},
     "output_type": "execute_result"
    }
   ],
   "source": [
    "data['exercise_score'].unique()"
   ]
  },
  {
   "cell_type": "markdown",
   "metadata": {},
   "source": [
    "# Parte 1 - Sistema di raccomandazione\n",
    "\n",
    "## 1.1. Content Based Recommendations\n",
    "\n",
    "L'assunzione fondamentale dietro il concetto di collaborative filtering è che ogni singolo utente che ha mostrato un certo insieme di preferenze continuerà a mostrarle in futuro. Un esempio popolare di collaborative filtering può essere un sistema di suggerimento dei generi e pezzi musicali a partire da un insieme di conoscenza di base dei gusti e delle preferenze di un dato utente. Da notare che, sebbene tali informazioni siano referenti a un singolo utente, esse derivano dalla conoscenza elaborata su tutto l'arco dell'insieme degli utenti del sistema.\n",
    "\n",
    "Poiché il collaborative filtering si basa su passate interazioni tra utenti e item è soggetto al problema del cold start. Quando un nuovo item o utente è aggiunto, esso non è associato a nessuna interazione, pertanto un algoritmo collaborativo puro non sarà in grado di gestirlo. \n",
    "\n",
    "https://it.wikipedia.org/wiki/Collaborative_filtering"
   ]
  },
  {
   "cell_type": "markdown",
   "metadata": {},
   "source": [
    "## 1.2 creazione delle features\n",
    "<br>\n",
    "Per poter raccomandare delle features vanno aggiunte alle righr....\n",
    "\n"
   ]
  },
  {
   "cell_type": "markdown",
   "metadata": {},
   "source": [
    "## 1.3 Visualizzare le features\n",
    "\n",
    "### Pie chart\n",
    "\n",
    "- https://plotly.com/python/pie-charts/\n",
    "\n",
    "La prima informazione che vogliamo visualizzare è quali tipi di esercizi gli utenti scelgono di effettuare.<br>\n",
    "Ci sono 4 differenti tipi di esercizi:<br>\n",
    "\n",
    "<ul>\n",
    "<li>audio_exercise</li>\n",
    "<li>easy_exercise</li>\n",
    "<li>grammar_exercise</li>\n",
    "<li>translate_exercise</li>\n",
    "</ul>\n",
    "\n",
    "Il primo passo è quindi capire la distribuzione degli esercizi."
   ]
  },
  {
   "cell_type": "code",
   "execution_count": 132,
   "metadata": {},
   "outputs": [],
   "source": [
    "n = data.groupby(by='exercise_type').agg('count')\n",
    "# da migliorare, prenderlo in automatico\n",
    "# labels = selected.index.values\n",
    "# print(\"Type {0}. Size={1}\".format(type(indexNamesArr), selected.shape))\n",
    "\n",
    "pie_labels = ['audio_exercise','easy_exercise','grammar_exercise','translate_exercise']\n",
    "pie_values = n['count']"
   ]
  },
  {
   "cell_type": "code",
   "execution_count": 133,
   "metadata": {},
   "outputs": [
    {
     "name": "stdout",
     "output_type": "stream",
     "text": [
      "Plot exercise_type\n"
     ]
    },
    {
     "data": {
      "application/vnd.plotly.v1+json": {
       "config": {
        "plotlyServerURL": "https://plot.ly"
       },
       "data": [
        {
         "labels": [
          "audio_exercise",
          "easy_exercise",
          "grammar_exercise",
          "translate_exercise"
         ],
         "type": "pie",
         "values": [
          346,
          581,
          24919,
          4526
         ]
        }
       ],
       "layout": {
        "template": {
         "data": {
          "bar": [
           {
            "error_x": {
             "color": "#2a3f5f"
            },
            "error_y": {
             "color": "#2a3f5f"
            },
            "marker": {
             "line": {
              "color": "#E5ECF6",
              "width": 0.5
             }
            },
            "type": "bar"
           }
          ],
          "barpolar": [
           {
            "marker": {
             "line": {
              "color": "#E5ECF6",
              "width": 0.5
             }
            },
            "type": "barpolar"
           }
          ],
          "carpet": [
           {
            "aaxis": {
             "endlinecolor": "#2a3f5f",
             "gridcolor": "white",
             "linecolor": "white",
             "minorgridcolor": "white",
             "startlinecolor": "#2a3f5f"
            },
            "baxis": {
             "endlinecolor": "#2a3f5f",
             "gridcolor": "white",
             "linecolor": "white",
             "minorgridcolor": "white",
             "startlinecolor": "#2a3f5f"
            },
            "type": "carpet"
           }
          ],
          "choropleth": [
           {
            "colorbar": {
             "outlinewidth": 0,
             "ticks": ""
            },
            "type": "choropleth"
           }
          ],
          "contour": [
           {
            "colorbar": {
             "outlinewidth": 0,
             "ticks": ""
            },
            "colorscale": [
             [
              0,
              "#0d0887"
             ],
             [
              0.1111111111111111,
              "#46039f"
             ],
             [
              0.2222222222222222,
              "#7201a8"
             ],
             [
              0.3333333333333333,
              "#9c179e"
             ],
             [
              0.4444444444444444,
              "#bd3786"
             ],
             [
              0.5555555555555556,
              "#d8576b"
             ],
             [
              0.6666666666666666,
              "#ed7953"
             ],
             [
              0.7777777777777778,
              "#fb9f3a"
             ],
             [
              0.8888888888888888,
              "#fdca26"
             ],
             [
              1,
              "#f0f921"
             ]
            ],
            "type": "contour"
           }
          ],
          "contourcarpet": [
           {
            "colorbar": {
             "outlinewidth": 0,
             "ticks": ""
            },
            "type": "contourcarpet"
           }
          ],
          "heatmap": [
           {
            "colorbar": {
             "outlinewidth": 0,
             "ticks": ""
            },
            "colorscale": [
             [
              0,
              "#0d0887"
             ],
             [
              0.1111111111111111,
              "#46039f"
             ],
             [
              0.2222222222222222,
              "#7201a8"
             ],
             [
              0.3333333333333333,
              "#9c179e"
             ],
             [
              0.4444444444444444,
              "#bd3786"
             ],
             [
              0.5555555555555556,
              "#d8576b"
             ],
             [
              0.6666666666666666,
              "#ed7953"
             ],
             [
              0.7777777777777778,
              "#fb9f3a"
             ],
             [
              0.8888888888888888,
              "#fdca26"
             ],
             [
              1,
              "#f0f921"
             ]
            ],
            "type": "heatmap"
           }
          ],
          "heatmapgl": [
           {
            "colorbar": {
             "outlinewidth": 0,
             "ticks": ""
            },
            "colorscale": [
             [
              0,
              "#0d0887"
             ],
             [
              0.1111111111111111,
              "#46039f"
             ],
             [
              0.2222222222222222,
              "#7201a8"
             ],
             [
              0.3333333333333333,
              "#9c179e"
             ],
             [
              0.4444444444444444,
              "#bd3786"
             ],
             [
              0.5555555555555556,
              "#d8576b"
             ],
             [
              0.6666666666666666,
              "#ed7953"
             ],
             [
              0.7777777777777778,
              "#fb9f3a"
             ],
             [
              0.8888888888888888,
              "#fdca26"
             ],
             [
              1,
              "#f0f921"
             ]
            ],
            "type": "heatmapgl"
           }
          ],
          "histogram": [
           {
            "marker": {
             "colorbar": {
              "outlinewidth": 0,
              "ticks": ""
             }
            },
            "type": "histogram"
           }
          ],
          "histogram2d": [
           {
            "colorbar": {
             "outlinewidth": 0,
             "ticks": ""
            },
            "colorscale": [
             [
              0,
              "#0d0887"
             ],
             [
              0.1111111111111111,
              "#46039f"
             ],
             [
              0.2222222222222222,
              "#7201a8"
             ],
             [
              0.3333333333333333,
              "#9c179e"
             ],
             [
              0.4444444444444444,
              "#bd3786"
             ],
             [
              0.5555555555555556,
              "#d8576b"
             ],
             [
              0.6666666666666666,
              "#ed7953"
             ],
             [
              0.7777777777777778,
              "#fb9f3a"
             ],
             [
              0.8888888888888888,
              "#fdca26"
             ],
             [
              1,
              "#f0f921"
             ]
            ],
            "type": "histogram2d"
           }
          ],
          "histogram2dcontour": [
           {
            "colorbar": {
             "outlinewidth": 0,
             "ticks": ""
            },
            "colorscale": [
             [
              0,
              "#0d0887"
             ],
             [
              0.1111111111111111,
              "#46039f"
             ],
             [
              0.2222222222222222,
              "#7201a8"
             ],
             [
              0.3333333333333333,
              "#9c179e"
             ],
             [
              0.4444444444444444,
              "#bd3786"
             ],
             [
              0.5555555555555556,
              "#d8576b"
             ],
             [
              0.6666666666666666,
              "#ed7953"
             ],
             [
              0.7777777777777778,
              "#fb9f3a"
             ],
             [
              0.8888888888888888,
              "#fdca26"
             ],
             [
              1,
              "#f0f921"
             ]
            ],
            "type": "histogram2dcontour"
           }
          ],
          "mesh3d": [
           {
            "colorbar": {
             "outlinewidth": 0,
             "ticks": ""
            },
            "type": "mesh3d"
           }
          ],
          "parcoords": [
           {
            "line": {
             "colorbar": {
              "outlinewidth": 0,
              "ticks": ""
             }
            },
            "type": "parcoords"
           }
          ],
          "pie": [
           {
            "automargin": true,
            "type": "pie"
           }
          ],
          "scatter": [
           {
            "marker": {
             "colorbar": {
              "outlinewidth": 0,
              "ticks": ""
             }
            },
            "type": "scatter"
           }
          ],
          "scatter3d": [
           {
            "line": {
             "colorbar": {
              "outlinewidth": 0,
              "ticks": ""
             }
            },
            "marker": {
             "colorbar": {
              "outlinewidth": 0,
              "ticks": ""
             }
            },
            "type": "scatter3d"
           }
          ],
          "scattercarpet": [
           {
            "marker": {
             "colorbar": {
              "outlinewidth": 0,
              "ticks": ""
             }
            },
            "type": "scattercarpet"
           }
          ],
          "scattergeo": [
           {
            "marker": {
             "colorbar": {
              "outlinewidth": 0,
              "ticks": ""
             }
            },
            "type": "scattergeo"
           }
          ],
          "scattergl": [
           {
            "marker": {
             "colorbar": {
              "outlinewidth": 0,
              "ticks": ""
             }
            },
            "type": "scattergl"
           }
          ],
          "scattermapbox": [
           {
            "marker": {
             "colorbar": {
              "outlinewidth": 0,
              "ticks": ""
             }
            },
            "type": "scattermapbox"
           }
          ],
          "scatterpolar": [
           {
            "marker": {
             "colorbar": {
              "outlinewidth": 0,
              "ticks": ""
             }
            },
            "type": "scatterpolar"
           }
          ],
          "scatterpolargl": [
           {
            "marker": {
             "colorbar": {
              "outlinewidth": 0,
              "ticks": ""
             }
            },
            "type": "scatterpolargl"
           }
          ],
          "scatterternary": [
           {
            "marker": {
             "colorbar": {
              "outlinewidth": 0,
              "ticks": ""
             }
            },
            "type": "scatterternary"
           }
          ],
          "surface": [
           {
            "colorbar": {
             "outlinewidth": 0,
             "ticks": ""
            },
            "colorscale": [
             [
              0,
              "#0d0887"
             ],
             [
              0.1111111111111111,
              "#46039f"
             ],
             [
              0.2222222222222222,
              "#7201a8"
             ],
             [
              0.3333333333333333,
              "#9c179e"
             ],
             [
              0.4444444444444444,
              "#bd3786"
             ],
             [
              0.5555555555555556,
              "#d8576b"
             ],
             [
              0.6666666666666666,
              "#ed7953"
             ],
             [
              0.7777777777777778,
              "#fb9f3a"
             ],
             [
              0.8888888888888888,
              "#fdca26"
             ],
             [
              1,
              "#f0f921"
             ]
            ],
            "type": "surface"
           }
          ],
          "table": [
           {
            "cells": {
             "fill": {
              "color": "#EBF0F8"
             },
             "line": {
              "color": "white"
             }
            },
            "header": {
             "fill": {
              "color": "#C8D4E3"
             },
             "line": {
              "color": "white"
             }
            },
            "type": "table"
           }
          ]
         },
         "layout": {
          "annotationdefaults": {
           "arrowcolor": "#2a3f5f",
           "arrowhead": 0,
           "arrowwidth": 1
          },
          "autotypenumbers": "strict",
          "coloraxis": {
           "colorbar": {
            "outlinewidth": 0,
            "ticks": ""
           }
          },
          "colorscale": {
           "diverging": [
            [
             0,
             "#8e0152"
            ],
            [
             0.1,
             "#c51b7d"
            ],
            [
             0.2,
             "#de77ae"
            ],
            [
             0.3,
             "#f1b6da"
            ],
            [
             0.4,
             "#fde0ef"
            ],
            [
             0.5,
             "#f7f7f7"
            ],
            [
             0.6,
             "#e6f5d0"
            ],
            [
             0.7,
             "#b8e186"
            ],
            [
             0.8,
             "#7fbc41"
            ],
            [
             0.9,
             "#4d9221"
            ],
            [
             1,
             "#276419"
            ]
           ],
           "sequential": [
            [
             0,
             "#0d0887"
            ],
            [
             0.1111111111111111,
             "#46039f"
            ],
            [
             0.2222222222222222,
             "#7201a8"
            ],
            [
             0.3333333333333333,
             "#9c179e"
            ],
            [
             0.4444444444444444,
             "#bd3786"
            ],
            [
             0.5555555555555556,
             "#d8576b"
            ],
            [
             0.6666666666666666,
             "#ed7953"
            ],
            [
             0.7777777777777778,
             "#fb9f3a"
            ],
            [
             0.8888888888888888,
             "#fdca26"
            ],
            [
             1,
             "#f0f921"
            ]
           ],
           "sequentialminus": [
            [
             0,
             "#0d0887"
            ],
            [
             0.1111111111111111,
             "#46039f"
            ],
            [
             0.2222222222222222,
             "#7201a8"
            ],
            [
             0.3333333333333333,
             "#9c179e"
            ],
            [
             0.4444444444444444,
             "#bd3786"
            ],
            [
             0.5555555555555556,
             "#d8576b"
            ],
            [
             0.6666666666666666,
             "#ed7953"
            ],
            [
             0.7777777777777778,
             "#fb9f3a"
            ],
            [
             0.8888888888888888,
             "#fdca26"
            ],
            [
             1,
             "#f0f921"
            ]
           ]
          },
          "colorway": [
           "#636efa",
           "#EF553B",
           "#00cc96",
           "#ab63fa",
           "#FFA15A",
           "#19d3f3",
           "#FF6692",
           "#B6E880",
           "#FF97FF",
           "#FECB52"
          ],
          "font": {
           "color": "#2a3f5f"
          },
          "geo": {
           "bgcolor": "white",
           "lakecolor": "white",
           "landcolor": "#E5ECF6",
           "showlakes": true,
           "showland": true,
           "subunitcolor": "white"
          },
          "hoverlabel": {
           "align": "left"
          },
          "hovermode": "closest",
          "mapbox": {
           "style": "light"
          },
          "paper_bgcolor": "white",
          "plot_bgcolor": "#E5ECF6",
          "polar": {
           "angularaxis": {
            "gridcolor": "white",
            "linecolor": "white",
            "ticks": ""
           },
           "bgcolor": "#E5ECF6",
           "radialaxis": {
            "gridcolor": "white",
            "linecolor": "white",
            "ticks": ""
           }
          },
          "scene": {
           "xaxis": {
            "backgroundcolor": "#E5ECF6",
            "gridcolor": "white",
            "gridwidth": 2,
            "linecolor": "white",
            "showbackground": true,
            "ticks": "",
            "zerolinecolor": "white"
           },
           "yaxis": {
            "backgroundcolor": "#E5ECF6",
            "gridcolor": "white",
            "gridwidth": 2,
            "linecolor": "white",
            "showbackground": true,
            "ticks": "",
            "zerolinecolor": "white"
           },
           "zaxis": {
            "backgroundcolor": "#E5ECF6",
            "gridcolor": "white",
            "gridwidth": 2,
            "linecolor": "white",
            "showbackground": true,
            "ticks": "",
            "zerolinecolor": "white"
           }
          },
          "shapedefaults": {
           "line": {
            "color": "#2a3f5f"
           }
          },
          "ternary": {
           "aaxis": {
            "gridcolor": "white",
            "linecolor": "white",
            "ticks": ""
           },
           "baxis": {
            "gridcolor": "white",
            "linecolor": "white",
            "ticks": ""
           },
           "bgcolor": "#E5ECF6",
           "caxis": {
            "gridcolor": "white",
            "linecolor": "white",
            "ticks": ""
           }
          },
          "title": {
           "x": 0.05
          },
          "xaxis": {
           "automargin": true,
           "gridcolor": "white",
           "linecolor": "white",
           "ticks": "",
           "title": {
            "standoff": 15
           },
           "zerolinecolor": "white",
           "zerolinewidth": 2
          },
          "yaxis": {
           "automargin": true,
           "gridcolor": "white",
           "linecolor": "white",
           "ticks": "",
           "title": {
            "standoff": 15
           },
           "zerolinecolor": "white",
           "zerolinewidth": 2
          }
         }
        }
       }
      },
      "text/html": [
       "<div>                            <div id=\"cdeb351c-601f-47f8-8c36-62c48b4193b9\" class=\"plotly-graph-div\" style=\"height:525px; width:100%;\"></div>            <script type=\"text/javascript\">                require([\"plotly\"], function(Plotly) {                    window.PLOTLYENV=window.PLOTLYENV || {};                                    if (document.getElementById(\"cdeb351c-601f-47f8-8c36-62c48b4193b9\")) {                    Plotly.newPlot(                        \"cdeb351c-601f-47f8-8c36-62c48b4193b9\",                        [{\"labels\": [\"audio_exercise\", \"easy_exercise\", \"grammar_exercise\", \"translate_exercise\"], \"type\": \"pie\", \"values\": [346, 581, 24919, 4526]}],                        {\"template\": {\"data\": {\"bar\": [{\"error_x\": {\"color\": \"#2a3f5f\"}, \"error_y\": {\"color\": \"#2a3f5f\"}, \"marker\": {\"line\": {\"color\": \"#E5ECF6\", \"width\": 0.5}}, \"type\": \"bar\"}], \"barpolar\": [{\"marker\": {\"line\": {\"color\": \"#E5ECF6\", \"width\": 0.5}}, \"type\": \"barpolar\"}], \"carpet\": [{\"aaxis\": {\"endlinecolor\": \"#2a3f5f\", \"gridcolor\": \"white\", \"linecolor\": \"white\", \"minorgridcolor\": \"white\", \"startlinecolor\": \"#2a3f5f\"}, \"baxis\": {\"endlinecolor\": \"#2a3f5f\", \"gridcolor\": \"white\", \"linecolor\": \"white\", \"minorgridcolor\": \"white\", \"startlinecolor\": \"#2a3f5f\"}, \"type\": \"carpet\"}], \"choropleth\": [{\"colorbar\": {\"outlinewidth\": 0, \"ticks\": \"\"}, \"type\": \"choropleth\"}], \"contour\": [{\"colorbar\": {\"outlinewidth\": 0, \"ticks\": \"\"}, \"colorscale\": [[0.0, \"#0d0887\"], [0.1111111111111111, \"#46039f\"], [0.2222222222222222, \"#7201a8\"], [0.3333333333333333, \"#9c179e\"], [0.4444444444444444, \"#bd3786\"], [0.5555555555555556, \"#d8576b\"], [0.6666666666666666, \"#ed7953\"], [0.7777777777777778, \"#fb9f3a\"], [0.8888888888888888, \"#fdca26\"], [1.0, \"#f0f921\"]], \"type\": \"contour\"}], \"contourcarpet\": [{\"colorbar\": {\"outlinewidth\": 0, \"ticks\": \"\"}, \"type\": \"contourcarpet\"}], \"heatmap\": [{\"colorbar\": {\"outlinewidth\": 0, \"ticks\": \"\"}, \"colorscale\": [[0.0, \"#0d0887\"], [0.1111111111111111, \"#46039f\"], [0.2222222222222222, \"#7201a8\"], [0.3333333333333333, \"#9c179e\"], [0.4444444444444444, \"#bd3786\"], [0.5555555555555556, \"#d8576b\"], [0.6666666666666666, \"#ed7953\"], [0.7777777777777778, \"#fb9f3a\"], [0.8888888888888888, \"#fdca26\"], [1.0, \"#f0f921\"]], \"type\": \"heatmap\"}], \"heatmapgl\": [{\"colorbar\": {\"outlinewidth\": 0, \"ticks\": \"\"}, \"colorscale\": [[0.0, \"#0d0887\"], [0.1111111111111111, \"#46039f\"], [0.2222222222222222, \"#7201a8\"], [0.3333333333333333, \"#9c179e\"], [0.4444444444444444, \"#bd3786\"], [0.5555555555555556, \"#d8576b\"], [0.6666666666666666, \"#ed7953\"], [0.7777777777777778, \"#fb9f3a\"], [0.8888888888888888, \"#fdca26\"], [1.0, \"#f0f921\"]], \"type\": \"heatmapgl\"}], \"histogram\": [{\"marker\": {\"colorbar\": {\"outlinewidth\": 0, \"ticks\": \"\"}}, \"type\": \"histogram\"}], \"histogram2d\": [{\"colorbar\": {\"outlinewidth\": 0, \"ticks\": \"\"}, \"colorscale\": [[0.0, \"#0d0887\"], [0.1111111111111111, \"#46039f\"], [0.2222222222222222, \"#7201a8\"], [0.3333333333333333, \"#9c179e\"], [0.4444444444444444, \"#bd3786\"], [0.5555555555555556, \"#d8576b\"], [0.6666666666666666, \"#ed7953\"], [0.7777777777777778, \"#fb9f3a\"], [0.8888888888888888, \"#fdca26\"], [1.0, \"#f0f921\"]], \"type\": \"histogram2d\"}], \"histogram2dcontour\": [{\"colorbar\": {\"outlinewidth\": 0, \"ticks\": \"\"}, \"colorscale\": [[0.0, \"#0d0887\"], [0.1111111111111111, \"#46039f\"], [0.2222222222222222, \"#7201a8\"], [0.3333333333333333, \"#9c179e\"], [0.4444444444444444, \"#bd3786\"], [0.5555555555555556, \"#d8576b\"], [0.6666666666666666, \"#ed7953\"], [0.7777777777777778, \"#fb9f3a\"], [0.8888888888888888, \"#fdca26\"], [1.0, \"#f0f921\"]], \"type\": \"histogram2dcontour\"}], \"mesh3d\": [{\"colorbar\": {\"outlinewidth\": 0, \"ticks\": \"\"}, \"type\": \"mesh3d\"}], \"parcoords\": [{\"line\": {\"colorbar\": {\"outlinewidth\": 0, \"ticks\": \"\"}}, \"type\": \"parcoords\"}], \"pie\": [{\"automargin\": true, \"type\": \"pie\"}], \"scatter\": [{\"marker\": {\"colorbar\": {\"outlinewidth\": 0, \"ticks\": \"\"}}, \"type\": \"scatter\"}], \"scatter3d\": [{\"line\": {\"colorbar\": {\"outlinewidth\": 0, \"ticks\": \"\"}}, \"marker\": {\"colorbar\": {\"outlinewidth\": 0, \"ticks\": \"\"}}, \"type\": \"scatter3d\"}], \"scattercarpet\": [{\"marker\": {\"colorbar\": {\"outlinewidth\": 0, \"ticks\": \"\"}}, \"type\": \"scattercarpet\"}], \"scattergeo\": [{\"marker\": {\"colorbar\": {\"outlinewidth\": 0, \"ticks\": \"\"}}, \"type\": \"scattergeo\"}], \"scattergl\": [{\"marker\": {\"colorbar\": {\"outlinewidth\": 0, \"ticks\": \"\"}}, \"type\": \"scattergl\"}], \"scattermapbox\": [{\"marker\": {\"colorbar\": {\"outlinewidth\": 0, \"ticks\": \"\"}}, \"type\": \"scattermapbox\"}], \"scatterpolar\": [{\"marker\": {\"colorbar\": {\"outlinewidth\": 0, \"ticks\": \"\"}}, \"type\": \"scatterpolar\"}], \"scatterpolargl\": [{\"marker\": {\"colorbar\": {\"outlinewidth\": 0, \"ticks\": \"\"}}, \"type\": \"scatterpolargl\"}], \"scatterternary\": [{\"marker\": {\"colorbar\": {\"outlinewidth\": 0, \"ticks\": \"\"}}, \"type\": \"scatterternary\"}], \"surface\": [{\"colorbar\": {\"outlinewidth\": 0, \"ticks\": \"\"}, \"colorscale\": [[0.0, \"#0d0887\"], [0.1111111111111111, \"#46039f\"], [0.2222222222222222, \"#7201a8\"], [0.3333333333333333, \"#9c179e\"], [0.4444444444444444, \"#bd3786\"], [0.5555555555555556, \"#d8576b\"], [0.6666666666666666, \"#ed7953\"], [0.7777777777777778, \"#fb9f3a\"], [0.8888888888888888, \"#fdca26\"], [1.0, \"#f0f921\"]], \"type\": \"surface\"}], \"table\": [{\"cells\": {\"fill\": {\"color\": \"#EBF0F8\"}, \"line\": {\"color\": \"white\"}}, \"header\": {\"fill\": {\"color\": \"#C8D4E3\"}, \"line\": {\"color\": \"white\"}}, \"type\": \"table\"}]}, \"layout\": {\"annotationdefaults\": {\"arrowcolor\": \"#2a3f5f\", \"arrowhead\": 0, \"arrowwidth\": 1}, \"autotypenumbers\": \"strict\", \"coloraxis\": {\"colorbar\": {\"outlinewidth\": 0, \"ticks\": \"\"}}, \"colorscale\": {\"diverging\": [[0, \"#8e0152\"], [0.1, \"#c51b7d\"], [0.2, \"#de77ae\"], [0.3, \"#f1b6da\"], [0.4, \"#fde0ef\"], [0.5, \"#f7f7f7\"], [0.6, \"#e6f5d0\"], [0.7, \"#b8e186\"], [0.8, \"#7fbc41\"], [0.9, \"#4d9221\"], [1, \"#276419\"]], \"sequential\": [[0.0, \"#0d0887\"], [0.1111111111111111, \"#46039f\"], [0.2222222222222222, \"#7201a8\"], [0.3333333333333333, \"#9c179e\"], [0.4444444444444444, \"#bd3786\"], [0.5555555555555556, \"#d8576b\"], [0.6666666666666666, \"#ed7953\"], [0.7777777777777778, \"#fb9f3a\"], [0.8888888888888888, \"#fdca26\"], [1.0, \"#f0f921\"]], \"sequentialminus\": [[0.0, \"#0d0887\"], [0.1111111111111111, \"#46039f\"], [0.2222222222222222, \"#7201a8\"], [0.3333333333333333, \"#9c179e\"], [0.4444444444444444, \"#bd3786\"], [0.5555555555555556, \"#d8576b\"], [0.6666666666666666, \"#ed7953\"], [0.7777777777777778, \"#fb9f3a\"], [0.8888888888888888, \"#fdca26\"], [1.0, \"#f0f921\"]]}, \"colorway\": [\"#636efa\", \"#EF553B\", \"#00cc96\", \"#ab63fa\", \"#FFA15A\", \"#19d3f3\", \"#FF6692\", \"#B6E880\", \"#FF97FF\", \"#FECB52\"], \"font\": {\"color\": \"#2a3f5f\"}, \"geo\": {\"bgcolor\": \"white\", \"lakecolor\": \"white\", \"landcolor\": \"#E5ECF6\", \"showlakes\": true, \"showland\": true, \"subunitcolor\": \"white\"}, \"hoverlabel\": {\"align\": \"left\"}, \"hovermode\": \"closest\", \"mapbox\": {\"style\": \"light\"}, \"paper_bgcolor\": \"white\", \"plot_bgcolor\": \"#E5ECF6\", \"polar\": {\"angularaxis\": {\"gridcolor\": \"white\", \"linecolor\": \"white\", \"ticks\": \"\"}, \"bgcolor\": \"#E5ECF6\", \"radialaxis\": {\"gridcolor\": \"white\", \"linecolor\": \"white\", \"ticks\": \"\"}}, \"scene\": {\"xaxis\": {\"backgroundcolor\": \"#E5ECF6\", \"gridcolor\": \"white\", \"gridwidth\": 2, \"linecolor\": \"white\", \"showbackground\": true, \"ticks\": \"\", \"zerolinecolor\": \"white\"}, \"yaxis\": {\"backgroundcolor\": \"#E5ECF6\", \"gridcolor\": \"white\", \"gridwidth\": 2, \"linecolor\": \"white\", \"showbackground\": true, \"ticks\": \"\", \"zerolinecolor\": \"white\"}, \"zaxis\": {\"backgroundcolor\": \"#E5ECF6\", \"gridcolor\": \"white\", \"gridwidth\": 2, \"linecolor\": \"white\", \"showbackground\": true, \"ticks\": \"\", \"zerolinecolor\": \"white\"}}, \"shapedefaults\": {\"line\": {\"color\": \"#2a3f5f\"}}, \"ternary\": {\"aaxis\": {\"gridcolor\": \"white\", \"linecolor\": \"white\", \"ticks\": \"\"}, \"baxis\": {\"gridcolor\": \"white\", \"linecolor\": \"white\", \"ticks\": \"\"}, \"bgcolor\": \"#E5ECF6\", \"caxis\": {\"gridcolor\": \"white\", \"linecolor\": \"white\", \"ticks\": \"\"}}, \"title\": {\"x\": 0.05}, \"xaxis\": {\"automargin\": true, \"gridcolor\": \"white\", \"linecolor\": \"white\", \"ticks\": \"\", \"title\": {\"standoff\": 15}, \"zerolinecolor\": \"white\", \"zerolinewidth\": 2}, \"yaxis\": {\"automargin\": true, \"gridcolor\": \"white\", \"linecolor\": \"white\", \"ticks\": \"\", \"title\": {\"standoff\": 15}, \"zerolinecolor\": \"white\", \"zerolinewidth\": 2}}}},                        {\"responsive\": true}                    ).then(function(){\n",
       "                            \n",
       "var gd = document.getElementById('cdeb351c-601f-47f8-8c36-62c48b4193b9');\n",
       "var x = new MutationObserver(function (mutations, observer) {{\n",
       "        var display = window.getComputedStyle(gd).display;\n",
       "        if (!display || display === 'none') {{\n",
       "            console.log([gd, 'removed!']);\n",
       "            Plotly.purge(gd);\n",
       "            observer.disconnect();\n",
       "        }}\n",
       "}});\n",
       "\n",
       "// Listen for the removal of the full notebook cells\n",
       "var notebookContainer = gd.closest('#notebook-container');\n",
       "if (notebookContainer) {{\n",
       "    x.observe(notebookContainer, {childList: true});\n",
       "}}\n",
       "\n",
       "// Listen for the clearing of the current output cell\n",
       "var outputEl = gd.closest('.output');\n",
       "if (outputEl) {{\n",
       "    x.observe(outputEl, {childList: true});\n",
       "}}\n",
       "\n",
       "                        })                };                });            </script>        </div>"
      ]
     },
     "metadata": {},
     "output_type": "display_data"
    }
   ],
   "source": [
    "print(\"Plot exercise_type\")\n",
    "fig = go.Figure(data=[go.Pie(labels=pie_labels, values=pie_values)])\n",
    "fig.show()"
   ]
  },
  {
   "cell_type": "markdown",
   "metadata": {},
   "source": [
    "## Distribuzione dei risultati\n",
    "\n",
    "Un altra features che possiamo dedurre dai dati è la difficolta dell'esercizo. Se un particolare esercizio sarà svolto bene dalla maggior parte degli utenti allora possiamo considerarlo facile, se invece la percentuale di successo si abbassa possiamo ragionevlmente pensare che la difficolta sia maggiore."
   ]
  },
  {
   "cell_type": "markdown",
   "metadata": {},
   "source": [
    "Inizialmente iniziamo a visualizzare il valore della colonna 'exercise_score'"
   ]
  },
  {
   "cell_type": "code",
   "execution_count": 141,
   "metadata": {},
   "outputs": [
    {
     "data": {
      "text/plain": [
       "array([[<AxesSubplot:title={'center':'exercise_score'}>]], dtype=object)"
      ]
     },
     "execution_count": 141,
     "metadata": {},
     "output_type": "execute_result"
    },
    {
     "data": {
      "image/png": "[encoded data removed]",
      "text/plain": [
       "<Figure size 432x288 with 1 Axes>"
      ]
     },
     "metadata": {
      "needs_background": "light"
     },
     "output_type": "display_data"
    }
   ],
   "source": [
    "data.hist(column='exercise_score',bins=10)"
   ]
  },
  {
   "cell_type": "code",
   "execution_count": 142,
   "metadata": {},
   "outputs": [
    {
     "data": {
      "text/plain": [
       "<seaborn.axisgrid.FacetGrid at 0x287903505e0>"
      ]
     },
     "execution_count": 142,
     "metadata": {},
     "output_type": "execute_result"
    },
    {
     "data": {
      "image/png": "[encoded data removed]",
      "text/plain": [
       "<Figure size 360x360 with 1 Axes>"
      ]
     },
     "metadata": {
      "needs_background": "light"
     },
     "output_type": "display_data"
    }
   ],
   "source": [
    "sn.catplot(x='exercise_score', kind='box', data=data)"
   ]
  },
  {
   "cell_type": "markdown",
   "metadata": {},
   "source": [
    "L'operzione successiva è quella di raggruppare gli esercizi per url per vedere mediamente il voto preso dagli utenti"
   ]
  },
  {
   "cell_type": "code",
   "execution_count": 153,
   "metadata": {},
   "outputs": [
    {
     "name": "stdout",
     "output_type": "stream",
     "text": [
      "url\n",
      "https://www.esercizinglese.com/audio/libri/esercizi/frankenstein/631             72.4\n",
      "https://www.esercizinglese.com/audio/libri/esercizi/frankenstein/632             60.0\n",
      "https://www.esercizinglese.com/audio/libri/esercizi/frankenstein/633             94.0\n",
      "https://www.esercizinglese.com/audio/libri/esercizi/frankenstein/635             81.0\n",
      "https://www.esercizinglese.com/audio/libri/esercizi/frankenstein/733             86.0\n",
      "                                                                                 ... \n",
      "https://www.esercizinglese.com/traduzioni/testi-in-inglese/esercizi/it-en/917    -1.0\n",
      "https://www.esercizinglese.com/traduzioni/testi-in-inglese/esercizi/it-en/918    -1.0\n",
      "https://www.esercizinglese.com/traduzioni/testi-in-inglese/esercizi/it-en/919    -1.0\n",
      "https://www.esercizinglese.com/traduzioni/testi-in-inglese/esercizi/it-en/973    92.0\n",
      "https://www.esercizinglese.com/traduzioni/testi-in-inglese/esercizi/it-en/974    83.0\n",
      "Name: exercise_score, Length: 2444, dtype: float64\n"
     ]
    }
   ],
   "source": [
    "mean = (data.groupby(['url', 'exercise_score'], as_index=False).mean().groupby('url')['exercise_score'].mean())\n",
    "print(mean)"
   ]
  },
  {
   "cell_type": "markdown",
   "metadata": {},
   "source": [
    "Il risultati ottenuti sia con con Mysql che con panda sono equivalenti. \n",
    "Per comodità si è scelto però di creare una nuova colonna direttamente qui nel dataset con python.\n",
    "<br> Si crea una nuova colonna chiamata difficult"
   ]
  },
  {
   "cell_type": "code",
   "execution_count": 155,
   "metadata": {},
   "outputs": [
    {
     "data": {
      "text/plain": [
       "Index(['count', 'date', 'ip', 'url', 'exercise_type', 'count_page', 'userID',\n",
       "       'adblock', 'tokenid', 'screen_size', 'exercise_score', 'difficult'],\n",
       "      dtype='object')"
      ]
     },
     "execution_count": 155,
     "metadata": {},
     "output_type": "execute_result"
    }
   ],
   "source": [
    "data.loc[:,'difficult'] = 0\n",
    "data.columns"
   ]
  },
  {
   "cell_type": "code",
   "execution_count": 159,
   "metadata": {},
   "outputs": [
    {
     "name": "stdout",
     "output_type": "stream",
     "text": [
      "         count                 date                                ip  \\\n",
      "5917    477552  2021-01-21 16:52:55  dadf33129e3b7e579c0a14025c18e1f7   \n",
      "19121  1548313  2021-03-02 21:11:11  a52885deec4682560efd1d66a16f9df0   \n",
      "26026  2324801  2021-03-28 15:27:14  1719ae87fd62ca8e2ef2ea373d3d201a   \n",
      "\n",
      "                                                     url   exercise_type  \\\n",
      "5917   https://www.esercizinglese.com/audio/libri/ese...  audio_exercise   \n",
      "19121  https://www.esercizinglese.com/audio/libri/ese...  audio_exercise   \n",
      "26026  https://www.esercizinglese.com/audio/libri/ese...  audio_exercise   \n",
      "\n",
      "       count_page  userID  adblock                               tokenid  \\\n",
      "5917           37   93062        0  e809852b-8280-4f20-9104-d3ff07d86fb4   \n",
      "19121          37   63504        0  e7128687-126f-446f-b698-2b40d068dffe   \n",
      "26026         238   37132        0  2c948652-f4ad-4b1a-aed2-43c747a90fd0   \n",
      "\n",
      "       screen_size  exercise_score  difficult  \n",
      "5917          1349              84          0  \n",
      "19121         1310              56          0  \n",
      "26026         1519              40          0  \n",
      "         count                 date                                ip  \\\n",
      "5917    477552  2021-01-21 16:52:55  dadf33129e3b7e579c0a14025c18e1f7   \n",
      "19121  1548313  2021-03-02 21:11:11  a52885deec4682560efd1d66a16f9df0   \n",
      "26026  2324801  2021-03-28 15:27:14  1719ae87fd62ca8e2ef2ea373d3d201a   \n",
      "\n",
      "                                                     url   exercise_type  \\\n",
      "5917   https://www.esercizinglese.com/audio/libri/ese...  audio_exercise   \n",
      "19121  https://www.esercizinglese.com/audio/libri/ese...  audio_exercise   \n",
      "26026  https://www.esercizinglese.com/audio/libri/ese...  audio_exercise   \n",
      "\n",
      "       count_page  userID  adblock                               tokenid  \\\n",
      "5917           37   93062        0  e809852b-8280-4f20-9104-d3ff07d86fb4   \n",
      "19121          37   63504        0  e7128687-126f-446f-b698-2b40d068dffe   \n",
      "26026         238   37132        0  2c948652-f4ad-4b1a-aed2-43c747a90fd0   \n",
      "\n",
      "       screen_size  exercise_score  difficult  \n",
      "5917          1349              84         83  \n",
      "19121         1310              56         83  \n",
      "26026         1519              40         83  \n"
     ]
    },
    {
     "name": "stderr",
     "output_type": "stream",
     "text": [
      "<ipython-input-159-17634b306e2f>:3: SettingWithCopyWarning:\n",
      "\n",
      "\n",
      "A value is trying to be set on a copy of a slice from a DataFrame.\n",
      "Try using .loc[row_indexer,col_indexer] = value instead\n",
      "\n",
      "See the caveats in the documentation: https://pandas.pydata.org/pandas-docs/stable/user_guide/indexing.html#returning-a-view-versus-a-copy\n",
      "\n"
     ]
    }
   ],
   "source": [
    "current_url = data[data['url'] == 'https://www.esercizinglese.com/audio/libri/esercizi/frankenstein/632']\n",
    "print(current_url)\n",
    "current_url['difficult'] = 83\n",
    "print(current_url)"
   ]
  },
  {
   "cell_type": "code",
   "execution_count": null,
   "metadata": {},
   "outputs": [],
   "source": []
  }
 ],
 "metadata": {
  "kernelspec": {
   "display_name": "Python 3",
   "language": "python",
   "name": "python3"
  },
  "language_info": {
   "codemirror_mode": {
    "name": "ipython",
    "version": 3
   },
   "file_extension": ".py",
   "mimetype": "text/x-python",
   "name": "python",
   "nbconvert_exporter": "python",
   "pygments_lexer": "ipython3",
   "version": "3.8.5"
  }
 },
 "nbformat": 4,
 "nbformat_minor": 4
}
